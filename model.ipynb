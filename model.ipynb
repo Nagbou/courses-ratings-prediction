{
 "cells": [
  {
   "cell_type": "code",
   "execution_count": 1,
   "id": "f1872050-a88e-498c-b594-7724d712dcda",
   "metadata": {},
   "outputs": [
    {
     "name": "stdout",
     "output_type": "stream",
     "text": [
      "['Noor Al-Harbi' 'Hassan Al-Subhi' 'Amin Al-Juaied' 'Aisha Al-Shammari'\n",
      " 'Fatima Al-Jamal' 'Omar Al-Ghanim' 'Mohammed Al-Badrani'\n",
      " 'Youssef Al-Abdullah' 'Sara Al-Otaibi' 'Layla Al-Khalid']\n"
     ]
    }
   ],
   "source": [
    "import pandas as pd\n",
    "df=pd.read_csv('cimsDB.csv')\n",
    "unique_formateurs = df['formateur'].unique()\n",
    "print(unique_formateurs)"
   ]
  },
  {
   "cell_type": "code",
   "execution_count": null,
   "id": "3ae6d1dd-a7bb-4912-aed5-2c1a641c94e5",
   "metadata": {},
   "outputs": [],
   "source": []
  },
  {
   "cell_type": "code",
   "execution_count": 2,
   "id": "2c7232ca-bf34-477b-9cdb-175ae49fd02a",
   "metadata": {},
   "outputs": [
    {
     "name": "stdout",
     "output_type": "stream",
     "text": [
      "Stars Rating Model:\n",
      "R2 Score: 0.6022327382240835\n",
      "Mean Squared Error: 1.05272973010708\n",
      "\n",
      "Overall Score Model:\n",
      "R2 Score: 0.7157770813360589\n",
      "Mean Squared Error: 0.18425145456443687\n",
      "\n",
      "Predictions for new data (Stars Rating):\n",
      " [1.53 3.61]\n",
      "Predictions for new data (Overall Score):\n",
      " [2.69 2.35]\n"
     ]
    }
   ],
   "source": [
    "import pandas as pd\n",
    "from sklearn.ensemble import RandomForestRegressor\n",
    "from sklearn.pipeline import Pipeline\n",
    "\n",
    "\n",
    "\n",
    "\n",
    "from sklearn.metrics import mean_squared_error, r2_score\n",
    "\n",
    "\n",
    "\n",
    "# Assuming df is your DataFrame\n",
    "all_features = ['theme', 'formateur', 'knowledge', 'professionalism', 'communication',\n",
    "                'relevence', 'structure', 'duration', 'clarity', 'environment', 'typef']\n",
    "\n",
    "# Define the columns to be one-hot encoded\n",
    "from sklearn.preprocessing import OneHotEncoder\n",
    "from sklearn.compose import ColumnTransformer\n",
    "categorical_features = ['theme', 'formateur']\n",
    "numerical_features = [feature for feature in all_features if feature not in categorical_features]\n",
    "\n",
    "# Create a ColumnTransformer with OneHotEncoder for categorical features\n",
    "preprocessor = ColumnTransformer(\n",
    "    transformers=[\n",
    "        ('cat', OneHotEncoder(handle_unknown='ignore'), categorical_features)\n",
    "    ],\n",
    "    remainder='passthrough'  # Keep the rest of the features as they are\n",
    ")\n",
    "\n",
    "# Ensure 'stars_rating' and 'overall_score' are present in df\n",
    "assert 'stars_rating' in df.columns, \"Column 'stars_rating' not found in df\"\n",
    "assert 'overall_score' in df.columns, \"Column 'overall_score' not found in df\"\n",
    "\n",
    "from sklearn.model_selection import train_test_split\n",
    "# Separate target variables\n",
    "y_stars_rating = df['stars_rating']\n",
    "y_overall_score = df['overall_score']\n",
    "# Create X by selecting all_features from df\n",
    "X = df[all_features]\n",
    "# Pipeline for stars_rating\n",
    "model_stars_rating = Pipeline(steps=[\n",
    "    ('preprocessor', preprocessor),\n",
    "    ('regressor', RandomForestRegressor(n_estimators=100, random_state=42))  # Example parameters for regression\n",
    "])\n",
    "# Pipeline for overall_score\n",
    "model_overall_score = Pipeline(steps=[\n",
    "    ('preprocessor', preprocessor),\n",
    "    ('regressor', RandomForestRegressor(n_estimators=100, random_state=42))  # Example parameters for regression\n",
    "])\n",
    "# Split data into training and testing sets for stars_rating\n",
    "X_train_sr, X_test_sr, y_train_sr, y_test_sr = train_test_split(X, y_stars_rating, test_size=0.2, random_state=42)\n",
    "# Train the stars_rating model\n",
    "model_stars_rating.fit(X_train_sr, y_train_sr)\n",
    "\n",
    "\n",
    "from sklearn.metrics import mean_squared_error, r2_score\n",
    "# Predict and evaluate for stars_rating\n",
    "y_pred_sr = model_stars_rating.predict(X_test_sr)\n",
    "print(\"Stars Rating Model:\")\n",
    "print(\"R2 Score:\", r2_score(y_test_sr, y_pred_sr))\n",
    "print(\"Mean Squared Error:\", mean_squared_error(y_test_sr, y_pred_sr))\n",
    "# Split data into training and testing sets for overall_score\n",
    "X_train_os, X_test_os, y_train_os, y_test_os = train_test_split(X, y_overall_score, test_size=0.2, random_state=42)\n",
    "# Train the overall_score model\n",
    "model_overall_score.fit(X_train_os, y_train_os)\n",
    "# Predict and evaluate for overall_score\n",
    "y_pred_os = model_overall_score.predict(X_test_os)\n",
    "print(\"\\nOverall Score Model:\")\n",
    "print(\"R2 Score:\", r2_score(y_test_os, y_pred_os))\n",
    "print(\"Mean Squared Error:\", mean_squared_error(y_test_os, y_pred_os))\n",
    "# Features to be used during prediction\n",
    "prediction_features = ['formateur', 'duration', 'knowledge', 'typef']\n",
    "# Example new data for prediction\n",
    "new_data = pd.DataFrame({\n",
    "    'formateur': ['Hassan Al-Subhi', 'Noor Al-Harbi'],\n",
    "    'duration': [2, 3],\n",
    "    'knowledge': [4, 3],\n",
    "    'theme': ['A', 'B'],\n",
    "    'typef': [0, 1]  # Assuming typef is binary (0 or 1)\n",
    "})\n",
    "# Assign mean values to the missing columns individually (except 'typef')\n",
    "if 'professionalism' not in new_data.columns:\n",
    "    new_data['professionalism'] =  2.2000666888962987\n",
    "\n",
    "if 'communication' not in new_data.columns:\n",
    "    new_data['communication'] = 2.2147382460820273\n",
    "\n",
    "\n",
    "if 'relevence' not in new_data.columns:\n",
    "    new_data['relevence'] = 1.9896632210736913\n",
    "\n",
    "if 'structure' not in new_data.columns:\n",
    "    new_data['structure'] = 1.991997332444148\n",
    "\n",
    "\n",
    "if 'clarity' not in new_data.columns:\n",
    "    new_data['clarity'] =2.0106702234078027\n",
    "\n",
    "if 'environment' not in new_data.columns:\n",
    "    new_data['environment'] =  2.2517505835278424\n",
    "# Ensure new data matches the format of training data\n",
    "new_data_all_features = new_data[all_features]\n",
    "# Predict on new data for stars_rating\n",
    "new_predictions_sr = model_stars_rating.predict(new_data_all_features)\n",
    "print(\"\\nPredictions for new data (Stars Rating):\\n\", new_predictions_sr)\n",
    "# Predict on new data for overall_score\n",
    "new_predictions_os = model_overall_score.predict(new_data_all_features)\n",
    "print(\"Predictions for new data (Overall Score):\\n\", new_predictions_os)\n"
   ]
  },
  {
   "cell_type": "code",
   "execution_count": 3,
   "id": "f07906a0-f288-45a6-8755-42acb1f17d53",
   "metadata": {},
   "outputs": [
    {
     "data": {
      "text/plain": [
       "['model_overall_score.joblib']"
      ]
     },
     "execution_count": 3,
     "metadata": {},
     "output_type": "execute_result"
    }
   ],
   "source": [
    "from joblib import dump\n",
    "dump(model_stars_rating, 'model_stars_rating.joblib')\n",
    "dump(model_overall_score, 'model_overall_score.joblib')"
   ]
  },
  {
   "cell_type": "code",
   "execution_count": 4,
   "id": "fbe99223-0333-4fff-9573-dfd583a1e6d8",
   "metadata": {},
   "outputs": [
    {
     "data": {
      "text/plain": [
       "['model_stars_rating.joblib']"
      ]
     },
     "execution_count": 4,
     "metadata": {},
     "output_type": "execute_result"
    }
   ],
   "source": [
    "from joblib import dump\n",
    "dump(model_stars_rating, 'model_stars_rating.joblib')"
   ]
  },
  {
   "cell_type": "code",
   "execution_count": 5,
   "id": "efe8007f-90dc-4583-a7d9-134e724d0e2b",
   "metadata": {},
   "outputs": [
    {
     "name": "stdout",
     "output_type": "stream",
     "text": [
      "1.4.2\n"
     ]
    }
   ],
   "source": [
    "import sklearn\n",
    "print(sklearn.__version__)\n",
    "\n"
   ]
  },
  {
   "cell_type": "code",
   "execution_count": null,
   "id": "2a6da82a-6780-4c32-a722-947d8c7c1f53",
   "metadata": {},
   "outputs": [],
   "source": []
  }
 ],
 "metadata": {
  "kernelspec": {
   "display_name": "Python 3 (ipykernel)",
   "language": "python",
   "name": "python3"
  },
  "language_info": {
   "codemirror_mode": {
    "name": "ipython",
    "version": 3
   },
   "file_extension": ".py",
   "mimetype": "text/x-python",
   "name": "python",
   "nbconvert_exporter": "python",
   "pygments_lexer": "ipython3",
   "version": "3.12.4"
  }
 },
 "nbformat": 4,
 "nbformat_minor": 5
}
