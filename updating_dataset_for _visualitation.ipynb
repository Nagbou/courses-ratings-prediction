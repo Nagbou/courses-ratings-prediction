{
 "cells": [
  {
   "cell_type": "code",
   "execution_count": 1,
   "id": "91c32145-66e5-41cf-8734-81490b5a84cc",
   "metadata": {},
   "outputs": [
    {
     "data": {
      "text/plain": [
       "Index(['theme', 'formateur', 'stars_rating', 'knowledge', 'professionalism',\n",
       "       'communication', 'overall_score', 'relevence', 'structure', 'duration',\n",
       "       'clarity', 'environment', 'typef'],\n",
       "      dtype='object')"
      ]
     },
     "execution_count": 1,
     "metadata": {},
     "output_type": "execute_result"
    }
   ],
   "source": [
    "import pandas as pd \n",
    "df=pd.read_csv('cimsDB.csv')\n",
    "df.columns"
   ]
  },
  {
   "cell_type": "code",
   "execution_count": 3,
   "id": "2cb838e2-0743-4786-9abf-d3c15c1a48b6",
   "metadata": {},
   "outputs": [
    {
     "name": "stdout",
     "output_type": "stream",
     "text": [
      "          Attribute  Mean Value\n",
      "0      stars_rating         NaN\n",
      "1         knowledge         NaN\n",
      "2   professionalism         NaN\n",
      "3     communication         NaN\n",
      "4     overall_score         NaN\n",
      "5         relevence         NaN\n",
      "6         structure         NaN\n",
      "7          duration         NaN\n",
      "8           clarity         NaN\n",
      "9       environment         NaN\n",
      "10            typef         NaN\n"
     ]
    }
   ],
   "source": [
    "\n",
    "# Define the formateur and theme you want to filter by\n",
    "selected_formateur = 'Amin Al-Juaied'\n",
    "selected_theme = 'theme1'\n",
    "\n",
    "# Filter the DataFrame\n",
    "filtered_df = df[(df['formateur'] == selected_formateur) & (df['theme'] == selected_theme)]\n",
    "\n",
    "# Compute the mean for each attribute\n",
    "mean_values = filtered_df.mean(numeric_only=True).reset_index()\n",
    "mean_values.columns = ['Attribute', 'Mean Value']\n",
    "\n",
    "print(mean_values)"
   ]
  },
  {
   "cell_type": "code",
   "execution_count": null,
   "id": "6c1a0757-af17-42ac-8173-a9b2b93560ec",
   "metadata": {},
   "outputs": [],
   "source": []
  }
 ],
 "metadata": {
  "kernelspec": {
   "display_name": "Python 3 (ipykernel)",
   "language": "python",
   "name": "python3"
  },
  "language_info": {
   "codemirror_mode": {
    "name": "ipython",
    "version": 3
   },
   "file_extension": ".py",
   "mimetype": "text/x-python",
   "name": "python",
   "nbconvert_exporter": "python",
   "pygments_lexer": "ipython3",
   "version": "3.12.4"
  }
 },
 "nbformat": 4,
 "nbformat_minor": 5
}
